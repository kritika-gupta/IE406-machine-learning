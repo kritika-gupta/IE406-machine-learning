{
  "nbformat": 4,
  "nbformat_minor": 0,
  "metadata": {
    "kernelspec": {
      "display_name": "Python 3",
      "language": "python",
      "name": "python3"
    },
    "language_info": {
      "codemirror_mode": {
        "name": "ipython",
        "version": 3
      },
      "file_extension": ".py",
      "mimetype": "text/x-python",
      "name": "python",
      "nbconvert_exporter": "python",
      "pygments_lexer": "ipython3",
      "version": "3.5.2"
    },
    "colab": {
      "name": "ML_lab4.ipynb",
      "provenance": [],
      "include_colab_link": true
    }
  },
  "cells": [
    {
      "cell_type": "markdown",
      "metadata": {
        "id": "view-in-github",
        "colab_type": "text"
      },
      "source": [
        "<a href=\"https://colab.research.google.com/github/kritika-gupta/IE406-machine-learning/blob/main/assignment4.ipynb\" target=\"_parent\"><img src=\"https://colab.research.google.com/assets/colab-badge.svg\" alt=\"Open In Colab\"/></a>"
      ]
    },
    {
      "cell_type": "code",
      "metadata": {
        "id": "HR0-1UNzKNFh"
      },
      "source": [
        "import numpy as np\n",
        "import matplotlib.pyplot as plt\n",
        "from sklearn.datasets import load_digits\n",
        "from sklearn.model_selection import train_test_split\n",
        "from sklearn.preprocessing import StandardScaler\n",
        "from scipy.stats import multivariate_normal"
      ],
      "execution_count": null,
      "outputs": []
    },
    {
      "cell_type": "markdown",
      "metadata": {
        "id": "QMVjkuPeKttO"
      },
      "source": [
        "#### 1. Perform Linear Discriminant Analysis (LDA) on the MNIST dataset for binary as well as formulticlass classification.\n",
        "\n",
        "#### 2. Perform Quadratic Discriminant Analysis(QDA) on the MNIST dataset for multiclass classification. "
      ]
    },
    {
      "cell_type": "code",
      "metadata": {
        "id": "dssEkq7gKNFk",
        "outputId": "befabde5-0827-45a3-87a7-86dd467e310a"
      },
      "source": [
        "digits = load_digits()\n",
        "digits.keys()\n",
        "digits.data.shape"
      ],
      "execution_count": null,
      "outputs": [
        {
          "output_type": "execute_result",
          "data": {
            "text/plain": [
              "(1797, 64)"
            ]
          },
          "metadata": {
            "tags": []
          },
          "execution_count": 2
        }
      ]
    },
    {
      "cell_type": "code",
      "metadata": {
        "id": "gt-gj5CFKNFn",
        "outputId": "034b3c44-2980-44b2-a3c8-b44d49536c38"
      },
      "source": [
        "labels = digits.target\n",
        "data = digits.data[:]\n",
        "print(data.shape, labels.shape)\n",
        "data = StandardScaler().fit_transform(data)"
      ],
      "execution_count": null,
      "outputs": [
        {
          "output_type": "stream",
          "text": [
            "(1797, 64) (1797,)\n"
          ],
          "name": "stdout"
        }
      ]
    },
    {
      "cell_type": "markdown",
      "metadata": {
        "id": "sErSMxqdKNFo"
      },
      "source": [
        "## Q1 . Binary Classification (class 0 and class 1)"
      ]
    },
    {
      "cell_type": "code",
      "metadata": {
        "id": "LI-fYM5JKNFo",
        "outputId": "5901d138-ff9f-4a09-96e7-557c751954da"
      },
      "source": [
        "idxs = np.where((labels==0) | (labels==1))[0]\n",
        "X = data[idxs, :]\n",
        "Y = labels[idxs]\n",
        "print(X.shape, Y.shape)\n",
        "X_train, X_test, Y_train, Y_test = train_test_split(X, Y, train_size = 0.9)"
      ],
      "execution_count": null,
      "outputs": [
        {
          "output_type": "stream",
          "text": [
            "(360, 64) (360,)\n"
          ],
          "name": "stdout"
        }
      ]
    },
    {
      "cell_type": "code",
      "metadata": {
        "id": "MXEcFQiiKNFo",
        "outputId": "f7dd7ae5-7854-4c30-a258-cb82b78e81f0"
      },
      "source": [
        "x0 = X_train[np.where(Y_train==0)]\n",
        "y0 = Y_train[np.where(Y_train==0)]\n",
        "x1 = X_train[np.where(Y_train==1)]\n",
        "y1 = Y_train[np.where(Y_train==1)]\n",
        "print(x0.shape, y0.shape, x1.shape, y1.shape)"
      ],
      "execution_count": null,
      "outputs": [
        {
          "output_type": "stream",
          "text": [
            "(158, 64) (158,) (166, 64) (166,)\n"
          ],
          "name": "stdout"
        }
      ]
    },
    {
      "cell_type": "code",
      "metadata": {
        "id": "gvgT0JNVKNFq",
        "outputId": "7d3cda0f-5b72-43a6-b393-5813e5753124"
      },
      "source": [
        "cov0 = np.cov(x0.T)\n",
        "cov1 = np.cov(x1.T)\n",
        "mu0 = np.mean(x0, axis = 0).reshape(x0.shape[1], 1)\n",
        "mu1 = np.mean(x1, axis = 0).reshape(x0.shape[1], 1)\n",
        "print(cov0.shape, mu0.shape, cov1.shape, mu1.shape)\n",
        "cov = (cov0+cov1)/2\n",
        "print(cov.shape)\n",
        "# priori\n",
        "prior0 = len(y0)/(len(y0)+len(y1))\n",
        "prior1 = len(y1)/(len(y0)+len(y1))"
      ],
      "execution_count": null,
      "outputs": [
        {
          "output_type": "stream",
          "text": [
            "(64, 64) (64, 1) (64, 64) (64, 1)\n",
            "(64, 64)\n"
          ],
          "name": "stdout"
        }
      ]
    },
    {
      "cell_type": "code",
      "metadata": {
        "id": "3wh3ahWsKNFr",
        "outputId": "9768b5aa-30b1-4700-e309-49fe13165f45"
      },
      "source": [
        "cov_inv = np.linalg.pinv(cov)\n",
        "beta = cov_inv@mu1 - cov_inv@mu0\n",
        "b = 0.5*(mu0.T@cov_inv@mu0 - mu1.T@cov_inv@mu1) - np.log(prior0/prior1)\n",
        "print(beta.shape, b.shape)"
      ],
      "execution_count": null,
      "outputs": [
        {
          "output_type": "stream",
          "text": [
            "(64, 1) (1, 1)\n"
          ],
          "name": "stdout"
        }
      ]
    },
    {
      "cell_type": "code",
      "metadata": {
        "id": "swPLhkPkKNFr",
        "outputId": "4c72553a-b676-4ec6-abc8-5baebecbb3dd"
      },
      "source": [
        "pred = np.where(X_test@beta + b > 0, 1, 0)\n",
        "pred = pred.reshape(pred.shape[0],)\n",
        "accuracy = np.sum(Y_test==pred)/len(pred)\n",
        "print(\"Accuracy = \", accuracy*100, \"%\")"
      ],
      "execution_count": null,
      "outputs": [
        {
          "output_type": "stream",
          "text": [
            "Accuracy =  100.0 %\n"
          ],
          "name": "stdout"
        }
      ]
    },
    {
      "cell_type": "markdown",
      "metadata": {
        "id": "c9SrMcAZKNFt"
      },
      "source": [
        "## Q2. Multiclass Classification"
      ]
    },
    {
      "cell_type": "code",
      "metadata": {
        "id": "AUJUsm6ZKNFt"
      },
      "source": [
        "def delta_lda(i, x):\n",
        "    return multivariate_normal.pdf(x, mu[i], sigma, allow_singular=True)*priori[i]\n",
        "\n",
        "def predict_lda(x):\n",
        "    return np.argmax([delta_lda(i, x) for i in digits.target_names])"
      ],
      "execution_count": null,
      "outputs": []
    },
    {
      "cell_type": "code",
      "metadata": {
        "id": "3riXGJwbKNFu",
        "outputId": "d813ff7c-0a09-4305-a451-93c8158b5047"
      },
      "source": [
        "X_train, X_test, Y_train, Y_test = train_test_split(data, labels, train_size = 0.9)\n",
        "print(X_train.shape, Y_train.shape, X_test.shape, Y_test.shape)\n",
        "X_vals = [X_train[np.where(Y_train==i)] for i in digits.target_names] # list of Xs for each class\n",
        "Y_vals = [Y_train[np.where(Y_train==i)] for i in digits.target_names]"
      ],
      "execution_count": null,
      "outputs": [
        {
          "output_type": "stream",
          "text": [
            "(1617, 64) (1617,) (180, 64) (180,)\n"
          ],
          "name": "stdout"
        }
      ]
    },
    {
      "cell_type": "code",
      "metadata": {
        "id": "RNLB95pJKNFv",
        "outputId": "816548f3-e201-41d4-de93-8d9684a76f40"
      },
      "source": [
        "sigma = np.array([np.cov(X_vals[i].T) for i in digits.target_names])\n",
        "sigma = np.mean(sigma, axis = 0)\n",
        "print(sigma.shape)\n",
        "mu = [np.mean(X_vals[i], axis = 0) for i in digits.target_names]\n",
        "total_len = len([x for sublist in Y_vals for x in sublist])\n",
        "priori = [len(Y_vals[i])/total_len for i in digits.target_names]"
      ],
      "execution_count": null,
      "outputs": [
        {
          "output_type": "stream",
          "text": [
            "(64, 64)\n"
          ],
          "name": "stdout"
        }
      ]
    },
    {
      "cell_type": "code",
      "metadata": {
        "id": "gelZwI6rKNFv",
        "outputId": "d86f0762-451f-46a5-a972-8898bef78b43"
      },
      "source": [
        "accuracy = np.sum([predict_lda(X_test[j, :])==Y_test[j] for j in range(len(Y_test))])\n",
        "print(\"Accuracy =\", accuracy*100/len(Y_test), \"%\")"
      ],
      "execution_count": null,
      "outputs": [
        {
          "output_type": "stream",
          "text": [
            "Accuracy = 93.33333333333333 %\n"
          ],
          "name": "stdout"
        }
      ]
    },
    {
      "cell_type": "markdown",
      "metadata": {
        "id": "oKAdrUv5KNFw"
      },
      "source": [
        "# Q2. QDA"
      ]
    },
    {
      "cell_type": "code",
      "metadata": {
        "id": "jixrBLr4KNFw"
      },
      "source": [
        "def delta_qda(i, x):\n",
        "    return multivariate_normal.pdf(x, mu[i], sigma[i], allow_singular=True)*priori[i]\n",
        "def predict_qda(x):\n",
        "    return np.argmax([delta_qda(i, x) for i in digits.target_names])"
      ],
      "execution_count": null,
      "outputs": []
    },
    {
      "cell_type": "code",
      "metadata": {
        "id": "1Nt8DHPDKNFx",
        "outputId": "6ee99a98-86b8-4f6a-b73e-806d45f36360"
      },
      "source": [
        "X_train, X_test, Y_train, Y_test = train_test_split(data, labels, train_size = 0.9)\n",
        "print(X_train.shape, Y_train.shape, X_test.shape, Y_test.shape)\n",
        "X_vals = [X_train[np.where(Y_train==i)] for i in digits.target_names] # list of Xs for each class\n",
        "Y_vals = [Y_train[np.where(Y_train==i)] for i in digits.target_names]"
      ],
      "execution_count": null,
      "outputs": [
        {
          "output_type": "stream",
          "text": [
            "(1617, 64) (1617,) (180, 64) (180,)\n"
          ],
          "name": "stdout"
        }
      ]
    },
    {
      "cell_type": "code",
      "metadata": {
        "id": "je9NN4frKNFx"
      },
      "source": [
        "sigma = [np.cov(X_vals[i].T) for i in digits.target_names]\n",
        "mu = [np.mean(X_vals[i], axis = 0) for i in digits.target_names]\n",
        "total_len = len([x for sublist in Y_vals for x in sublist])\n",
        "priori = [len(Y_vals[i])/total_len for i in digits.target_names]"
      ],
      "execution_count": null,
      "outputs": []
    },
    {
      "cell_type": "code",
      "metadata": {
        "id": "nGw-2V-SKNFx",
        "outputId": "fd94c047-529f-42d0-d0cc-18c2ea3e1a51"
      },
      "source": [
        "accuracy = np.sum([predict_qda(X_test[j, :])==Y_test[j] for j in range(len(Y_test))])\n",
        "print(\"Accuracy for QDA =\", accuracy*100/len(Y_test), \"%\")"
      ],
      "execution_count": null,
      "outputs": [
        {
          "output_type": "stream",
          "text": [
            "Accuracy for QDA = 95.55555555555556 %\n"
          ],
          "name": "stdout"
        }
      ]
    },
    {
      "cell_type": "code",
      "metadata": {
        "id": "9KIYFJQ0KNFy"
      },
      "source": [
        ""
      ],
      "execution_count": null,
      "outputs": []
    }
  ]
}