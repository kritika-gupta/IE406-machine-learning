{
  "nbformat": 4,
  "nbformat_minor": 0,
  "metadata": {
    "kernelspec": {
      "display_name": "Python 3",
      "language": "python",
      "name": "python3"
    },
    "language_info": {
      "codemirror_mode": {
        "name": "ipython",
        "version": 3
      },
      "file_extension": ".py",
      "mimetype": "text/x-python",
      "name": "python",
      "nbconvert_exporter": "python",
      "pygments_lexer": "ipython3",
      "version": "3.5.2"
    },
    "colab": {
      "name": "ML_lab2.ipynb",
      "provenance": [],
      "collapsed_sections": [],
      "include_colab_link": true
    }
  },
  "cells": [
    {
      "cell_type": "markdown",
      "metadata": {
        "id": "view-in-github",
        "colab_type": "text"
      },
      "source": [
        "<a href=\"https://colab.research.google.com/github/kritika-gupta/IE406-machine-learning/blob/main/assignment2.ipynb\" target=\"_parent\"><img src=\"https://colab.research.google.com/assets/colab-badge.svg\" alt=\"Open In Colab\"/></a>"
      ]
    },
    {
      "cell_type": "code",
      "metadata": {
        "id": "_WWxvyMdqZxQ"
      },
      "source": [
        "import numpy as np\n",
        "import matplotlib.pyplot as plt\n",
        "import csv\n",
        "from sympy import Symbol, symbols, Matrix"
      ],
      "execution_count": null,
      "outputs": []
    },
    {
      "cell_type": "markdown",
      "metadata": {
        "id": "qZX_Vr0uIbgI"
      },
      "source": [
        "#### Find minima of following functions using Gradient Descent method with learning rate 0.01 and 0.1 and different number of iterations. Try choosing a large value of learning rate and test the convergence. For $L_5(\\theta)$,  use the data file."
      ]
    },
    {
      "cell_type": "code",
      "metadata": {
        "id": "fR_-HldHqZxq"
      },
      "source": [
        "def find_minima(dY):\n",
        "    theta = np.random.random()\n",
        "    threshold = 0.000001\n",
        "    alpha = 0.01\n",
        "    iteration = 0\n",
        "    while(True):\n",
        "        theta_ = theta - alpha*dY(theta)\n",
        "        if(abs(theta_ - theta) < threshold):\n",
        "            break\n",
        "        theta = theta_\n",
        "        iteration += 1\n",
        "    return theta, iteration"
      ],
      "execution_count": null,
      "outputs": []
    },
    {
      "cell_type": "code",
      "metadata": {
        "id": "P8WW-AT5qZx1"
      },
      "source": [
        "def find_minima_two(dY1, dY2):\n",
        "    def dY(theta):\n",
        "        return np.array([dY1(theta[0]), dY2(theta[1])])\n",
        "    theta = np.random.random((2, 1))\n",
        "    threshold = 0.000001\n",
        "    alpha = 0.01\n",
        "    iteration = 0\n",
        "    while(True):\n",
        "        theta_ = theta - alpha*dY(theta)\n",
        "        if(np.linalg.norm(theta_ - theta) < threshold):\n",
        "            break\n",
        "        theta = theta_\n",
        "        iteration += 1\n",
        "    return theta, iteration   "
      ],
      "execution_count": null,
      "outputs": []
    },
    {
      "cell_type": "code",
      "metadata": {
        "id": "Sl17_KW-qZx_"
      },
      "source": [
        "def gradient_descent(X, Y, alpha, iterations):\n",
        "    samples, features = X.shape\n",
        "    plt.figure()    \n",
        "    theta = np.random.rand(features, 1)\n",
        "    for i in range(iterations):\n",
        "        \n",
        "        theta = theta + (1/samples)*alpha*(np.matmul(X.T, (Y - np.matmul(X, theta))))\n",
        "        cost = (0.5)*np.sum((Y - np.matmul(X, theta))**2)\n",
        "        plt.scatter(i, cost, s = 1, c = 'k')\n",
        "    plt.xlabel(\"iterations\")\n",
        "    plt.ylabel(\"cost\")\n",
        "    plt.title(r\"Gradient Descent, $\\alpha = %.3f$\"%alpha)\n",
        "    plt.show()\n",
        "    return theta        "
      ],
      "execution_count": null,
      "outputs": []
    },
    {
      "cell_type": "code",
      "metadata": {
        "id": "UavcZak6qZyH"
      },
      "source": [
        "def stochastic_gradient_descent(X, Y, alpha, iterations):\n",
        "    samples, features = X.shape\n",
        "    plt.figure()    \n",
        "    theta = np.random.rand(features, 1)\n",
        "    for i in range(iterations):\n",
        "        idx = np.random.randint(0, X_.shape[0])\n",
        "        x = X_[idx:idx+1, :]\n",
        "        y = Y[idx:idx+1, :]\n",
        "#         print(x.shape, theta.shape, y.shape, x.T.shape)\n",
        "        theta = theta + (1/samples)*alpha*(np.matmul(x.T, (y - np.matmul(x, theta))))\n",
        "        cost = (0.5)*np.sum((Y - np.matmul(X, theta))**2)\n",
        "        plt.scatter(i, cost, s = 1, c = 'k')\n",
        "    plt.xlabel(\"iterations\")\n",
        "    plt.ylabel(\"cost\")\n",
        "    plt.title(r\"Stochastic Gradient Descent, $\\alpha = %.3f$\"%alpha)\n",
        "    plt.show()\n",
        "    return theta        "
      ],
      "execution_count": null,
      "outputs": []
    },
    {
      "cell_type": "markdown",
      "metadata": {
        "id": "ZTqOoK6-qZyO"
      },
      "source": [
        "### Q1 (a) \n",
        "$L_1(\\theta) =\\theta^2$\n"
      ]
    },
    {
      "cell_type": "code",
      "metadata": {
        "id": "jN8LoyiQqZyQ",
        "outputId": "9269b83f-49ce-415f-f035-0ab05b65c3f3"
      },
      "source": [
        "dL = lambda x : 2*x\n",
        "theta_min, iteration = find_minima(dL)\n",
        "print(\"Minima = \", theta_min**2, \"\\noccurs at theta = \", theta_min)\n",
        "print(\"Iterations = \", iteration)"
      ],
      "execution_count": null,
      "outputs": [
        {
          "output_type": "stream",
          "text": [
            "Minima =  2.4602499192884924e-09 \n",
            "occurs at theta =  4.960090643615792e-05\n",
            "Iterations =  258\n"
          ],
          "name": "stdout"
        }
      ]
    },
    {
      "cell_type": "markdown",
      "metadata": {
        "id": "1pVgA1PTqZyX"
      },
      "source": [
        "### Q1 (b)\n",
        "$L_2(\\theta) =\\theta_1^2  + \\theta_2^2$\n"
      ]
    },
    {
      "cell_type": "code",
      "metadata": {
        "id": "5_iQDkXYqZyZ",
        "outputId": "33ca735e-88fe-4199-8d42-e4bffdf4aa24"
      },
      "source": [
        "dL = lambda x : 2*x\n",
        "theta_min, iteration = find_minima_two(dL, dL)\n",
        "print(\"Minima = \", theta_min[0]**2 + theta_min[1]**2, \"\\noccurs at theta = \", theta_min)\n",
        "print(\"Iterations = \", iteration)"
      ],
      "execution_count": null,
      "outputs": [
        {
          "output_type": "stream",
          "text": [
            "Minima =  [2.40907917e-09] \n",
            "occurs at theta =  [[4.89469845e-05]\n",
            " [3.64305845e-06]]\n",
            "Iterations =  408\n"
          ],
          "name": "stdout"
        }
      ]
    },
    {
      "cell_type": "markdown",
      "metadata": {
        "id": "TNNH0gOeqZyf"
      },
      "source": [
        "### Q1 (c)\n",
        "$L_3(\\theta) = (\\theta-1)^2$\n"
      ]
    },
    {
      "cell_type": "code",
      "metadata": {
        "id": "oA-VyuuuqZyh",
        "outputId": "2566a18c-83b9-4101-edf3-4a4624c5a202"
      },
      "source": [
        "L = lambda theta : (theta-1)**2\n",
        "dL = lambda x : 2*(x-1)\n",
        "theta_min, iteration = find_minima(dL)\n",
        "print(\"Minima = \", L(theta_min), \"\\noccurs at theta = \", theta_min)\n",
        "print(\"Iterations = \", iteration)"
      ],
      "execution_count": null,
      "outputs": [
        {
          "output_type": "stream",
          "text": [
            "Minima =  2.4850378095531573e-09 \n",
            "occurs at theta =  0.999950149846444\n",
            "Iterations =  486\n"
          ],
          "name": "stdout"
        }
      ]
    },
    {
      "cell_type": "markdown",
      "metadata": {
        "id": "S_nvAzYaqZyn"
      },
      "source": [
        "### Q1 (d)\n",
        "$L_4(\\theta) = 2(\\theta_1-1)^2 + 2(\\theta_2-1)^2$"
      ]
    },
    {
      "cell_type": "code",
      "metadata": {
        "id": "BuRox2qzqZyp",
        "outputId": "dd5fe195-7ed7-4653-c32f-ccd113da3093"
      },
      "source": [
        "L = lambda theta1, theta2 : 2*(theta1-1)**2 + 2*(theta2-1)**2\n",
        "dL = lambda x : 4*(x-1)\n",
        "theta_min, iteration = find_minima_two(dL, dL)\n",
        "print(\"Minima = \", L(theta_min[0], theta_min[1]), \"\\noccurs at theta = \", theta_min)\n",
        "print(\"Iterations = \", iteration)"
      ],
      "execution_count": null,
      "outputs": [
        {
          "output_type": "stream",
          "text": [
            "Minima =  [1.16684758e-09] \n",
            "occurs at theta =  [[0.99997617]\n",
            " [0.99999605]]\n",
            "Iterations =  252\n"
          ],
          "name": "stdout"
        }
      ]
    },
    {
      "cell_type": "markdown",
      "metadata": {
        "id": "lX7UAk3AqZyv"
      },
      "source": [
        "### Q1 (e)\n",
        "$L_5(\\theta) = \\sum_{i=1}^m(y^{(i)}-(\\theta_0+ \\theta_1x^{(i)}))^2$"
      ]
    },
    {
      "cell_type": "code",
      "metadata": {
        "id": "5iM2x9XcqZyx",
        "outputId": "f086ae1d-c1dd-42fe-bf89-3cc439a8c35c"
      },
      "source": [
        "X, Y = [], []\n",
        "with open (\"data_q3.csv\") as data_file:\n",
        "    data = csv.reader(data_file)\n",
        "    for row in data:\n",
        "        X.append(row[0])\n",
        "        Y.append(row[1])\n",
        "X = np.array(X, dtype = 'float64')\n",
        "X = X.reshape((X.shape[0], 1))\n",
        "Y = np.array(Y, dtype = 'float64')\n",
        "Y = Y.reshape((Y.shape[0], 1))        \n",
        "X_scaled = (X - np.mean(X))/(np.std(X))\n",
        "X_ = np.concatenate((np.ones((X_scaled.shape[0], 1)), X_scaled), axis=1)\n",
        "print(X_.shape)"
      ],
      "execution_count": null,
      "outputs": [
        {
          "output_type": "stream",
          "text": [
            "(94, 2)\n"
          ],
          "name": "stdout"
        }
      ]
    },
    {
      "cell_type": "code",
      "metadata": {
        "id": "7Qok3vy2qZy2",
        "outputId": "df1a56f1-9313-405d-c835-f38c2520aa6a"
      },
      "source": [
        "weights = gradient_descent(X_, Y, 0.01, 500)\n",
        "print(\"Weights learned = \", weights)"
      ],
      "execution_count": null,
      "outputs": [
        {
          "output_type": "display_data",
          "data": {
            "image/png": "[encoded data removed]",
            "text/plain": [
              "<Figure size 432x288 with 1 Axes>"
            ]
          },
          "metadata": {
            "tags": [],
            "needs_background": "light"
          }
        },
        {
          "output_type": "stream",
          "text": [
            "Weights learned =  [[23.5624714 ]\n",
            " [-6.81639024]]\n"
          ],
          "name": "stdout"
        }
      ]
    },
    {
      "cell_type": "markdown",
      "metadata": {
        "id": "zPDj6sGpqZy6"
      },
      "source": [
        "### Q2 Stochastic GD\n",
        "Find minimum of the function $L(\\theta) = \\sum_{i=1}^m(y^{(i)}-(\\theta_0+ \\theta_1x^{(i)}))^2$ using Stochastic Gradient Descent method (Take the data from the data file).     Choose different learning rates and  number of iterations. \n"
      ]
    },
    {
      "cell_type": "code",
      "metadata": {
        "id": "0LIh4aoiqZy7",
        "outputId": "290f92c2-9a04-4f33-fc22-32a9bf473b61"
      },
      "source": [
        "weights = stochastic_gradient_descent(X_, Y, 1, 2000)\n",
        "print(\"Weights learned = \", weights)"
      ],
      "execution_count": null,
      "outputs": [
        {
          "output_type": "display_data",
          "data": {
            "image/png": "[encoded data removed]",
            "text/plain": [
              "<Figure size 432x288 with 1 Axes>"
            ]
          },
          "metadata": {
            "tags": [],
            "needs_background": "light"
          }
        },
        {
          "output_type": "stream",
          "text": [
            "Weights learned =  [[23.82693107]\n",
            " [-7.26325567]]\n"
          ],
          "name": "stdout"
        }
      ]
    },
    {
      "cell_type": "markdown",
      "metadata": {
        "id": "YU7MA-6uqZy_"
      },
      "source": [
        "### Q3 Steepest Descent\n",
        "Find the minima of following functions using Steepest Descent method.\n"
      ]
    },
    {
      "cell_type": "code",
      "metadata": {
        "id": "QDOLYZisqZzA"
      },
      "source": [
        "def steepest_descent(func, dfunc):\n",
        "    old_theta = np.random.random()\n",
        "    threshold = 0.000001\n",
        "    old_alpha = 0.01\n",
        "    alpha = Symbol('alpha')\n",
        "    L = func.subs(theta, old_theta - alpha*dfunc.subs(theta, old_theta))\n",
        "    dL1 = L.diff(alpha)\n",
        "    dL2 = dL1.diff(alpha)\n",
        "    iteration = 0\n",
        "    while(True):\n",
        "        new_alpha = old_alpha - dL1.subs(alpha, old_alpha)/dL2.subs(alpha, old_alpha)\n",
        "        new_theta = old_theta - new_alpha*dfunc.subs(theta, old_theta)\n",
        "        if(abs(new_theta - old_theta) < threshold):\n",
        "            break\n",
        "        old_theta = new_theta\n",
        "        old_alpha = new_alpha\n",
        "        iteration += 1\n",
        "    return old_theta, iteration"
      ],
      "execution_count": null,
      "outputs": []
    },
    {
      "cell_type": "code",
      "metadata": {
        "id": "55551jwsqZzE"
      },
      "source": [
        "def steepest_descent2(func, dfunc):\n",
        "    old_theta1 = np.random.random()\n",
        "    old_theta2 = np.random.random()\n",
        "    threshold = 0.000001\n",
        "    old_alpha = 0.1\n",
        "    alpha = Symbol('alpha')\n",
        "    L = func.subs({theta1 : old_theta1 - alpha*dfunc[0].subs(theta1, old_theta1), \\\n",
        "                   theta2 : old_theta2 - alpha*dfunc[1].subs(theta2, old_theta2)})\n",
        "    dL1 = L.diff(alpha)\n",
        "    dL2 = dL1.diff(alpha)\n",
        "    iteration = 0 \n",
        "    while(True):\n",
        "        new_alpha = old_alpha - dL1.subs(alpha, old_alpha)/dL2.subs(alpha, old_alpha)\n",
        "        new_theta1 = old_theta1 - new_alpha*dfunc[0].subs(theta1, old_theta1)\n",
        "        new_theta2 = old_theta2 - new_alpha*dfunc[1].subs(theta2, old_theta2)\n",
        "\n",
        "        if(((new_theta1 - old_theta1)**2 + (new_theta2 - old_theta2)**2) < threshold):\n",
        "            break\n",
        "        old_theta1 = new_theta1\n",
        "        old_theta2 = new_theta2\n",
        "        old_alpha = new_alpha\n",
        "        iteration += 1\n",
        "    return old_theta1, old_theta2, iteration"
      ],
      "execution_count": null,
      "outputs": []
    },
    {
      "cell_type": "code",
      "metadata": {
        "id": "BUqYj_RhqZzJ"
      },
      "source": [
        "def steepest_gradient_descent(X, Y, old_alpha, iterations):\n",
        "    samples, features = X.shape\n",
        "    old_theta = np.random.rand(features, 1)\n",
        "    plt.figure()    \n",
        "    theta = theta = Matrix(symbols(['theta%0.f '%i for i in range(0,features)]))\n",
        "    alpha = Symbol('alpha')\n",
        "    J = (0.5)*np.sum((Y - (X*theta)).applyfunc(lambda x : x**2))\n",
        "    temp = J.diff(theta).subs([(theta[i], old_theta[i]) for i in range(features)])\n",
        "    subs_list = [(theta[i], (old_theta[i] - (alpha*(temp))[i])[0]) for i in range(features)]\n",
        "    L = J.subs(subs_list)\n",
        "    dL1 = L.diff(alpha)\n",
        "    dL2 = dL1.diff(alpha)\n",
        "    \n",
        "    for i in range(iterations):\n",
        "        new_alpha = old_alpha - dL1.subs(alpha, old_alpha)/dL2.subs(alpha, old_alpha)\n",
        "        new_theta = np.array(old_theta + (1/samples)*(new_alpha)*(X.T@(Y - (X@old_theta))), dtype = np.float)\n",
        "        cost = (0.5)*np.sum((Y - (X@new_theta))**2)\n",
        "        plt.scatter(i, cost, s = 1, c = 'k')\n",
        "        old_theta = new_theta\n",
        "        old_alpha = new_alpha\n",
        "    plt.xlabel(\"iterations\")\n",
        "    plt.ylabel(\"cost\")\n",
        "    plt.title(\"Steepest Gradient Descent\")\n",
        "    plt.show()\n",
        "    return new_theta        "
      ],
      "execution_count": null,
      "outputs": []
    },
    {
      "cell_type": "markdown",
      "metadata": {
        "id": "VOWvIH-ZqZzO"
      },
      "source": [
        "### Q3 (a)\n",
        "$L_1(\\theta) =\\theta^2$\n"
      ]
    },
    {
      "cell_type": "code",
      "metadata": {
        "id": "4a6zaoSkqZzP",
        "colab": {
          "base_uri": "https://localhost:8080/",
          "height": 52
        },
        "outputId": "5b5e21f7-e48a-4fb3-d40e-a3133e6d5d8d"
      },
      "source": [
        "theta = Symbol('theta')\n",
        "L = theta**2\n",
        "dL = L.diff(theta)\n",
        "result_theta,iteration = steepest_descent(L, dL)\n",
        "print(\"Minima = \", L.subs(theta, result_theta), \" occurs at theta = \", result_theta)\n",
        "print(\"Iterations = \", iteration)"
      ],
      "execution_count": null,
      "outputs": [
        {
          "output_type": "stream",
          "text": [
            "Minima =  0  occurs at theta =  0\n",
            "Iterations =  1\n"
          ],
          "name": "stdout"
        }
      ]
    },
    {
      "cell_type": "markdown",
      "metadata": {
        "id": "Yqqr1LaxqZzU"
      },
      "source": [
        "### Q3 (b)\n",
        "$L_2(\\theta) =\\theta_1^2  + \\theta_2^2$\n"
      ]
    },
    {
      "cell_type": "code",
      "metadata": {
        "id": "UfmmGYotqZzU"
      },
      "source": [
        "theta1 = Symbol('theta1')\n",
        "theta2 = Symbol('theta2')\n",
        "\n",
        "L = theta1**2 + theta2**2\n",
        "dL = L.diff(theta1), L.diff(theta2)\n",
        "\n",
        "result_theta1, result_theta2, iteration = steepest_descent2(L, dL)\n",
        "print(\"Minima = \", L.subs({theta1: result_theta1, theta2: result_theta2}),\\\n",
        "      \" occurs at theta = \", result_theta1, result_theta2)\n",
        "print(\"Iterations = \", iteration)"
      ],
      "execution_count": null,
      "outputs": []
    },
    {
      "cell_type": "markdown",
      "metadata": {
        "id": "SWlg3Yk7qZza"
      },
      "source": [
        "### Q3 (c)\n",
        "$L_3(\\theta) = (\\theta-1)^2$\n"
      ]
    },
    {
      "cell_type": "code",
      "metadata": {
        "id": "hlFKhlBBqZza"
      },
      "source": [
        "theta = Symbol('theta')\n",
        "L = (theta-1)**2\n",
        "dL = L.diff(theta)\n",
        "result_theta, iteration = steepest_descent(L, dL)\n",
        "print(\"Minima = \", L.subs(theta, result_theta), \" occurs at theta = \", result_theta)\n",
        "print(\"Iterations = \", iteration)"
      ],
      "execution_count": null,
      "outputs": []
    },
    {
      "cell_type": "markdown",
      "metadata": {
        "id": "BAJvek3wqZzg"
      },
      "source": [
        "### Q3 (d)\n",
        "$L_4(\\theta) = 2(\\theta_1-1)^2 + 2(\\theta_2-1)^2$"
      ]
    },
    {
      "cell_type": "code",
      "metadata": {
        "id": "lVrRNL-5qZzg",
        "outputId": "c0ee7928-a561-4260-987c-32ec88438aaf"
      },
      "source": [
        "theta1 = Symbol('theta1')\n",
        "theta2 = Symbol('theta2')\n",
        "\n",
        "L = 2*(theta1-1)**2 + 2*(theta2-1)**2\n",
        "dL = L.diff(theta1), L.diff(theta2)\n",
        "\n",
        "result_theta1, result_theta2, iteration = steepest_descent2(L, dL)\n",
        "print(\"Minima = \", L.subs({theta1: result_theta1, theta2: result_theta2}),\\\n",
        "      \" occurs at theta = \", result_theta1, result_theta2)\n",
        "print(\"Iterations = \", iteration)"
      ],
      "execution_count": null,
      "outputs": [
        {
          "output_type": "stream",
          "text": [
            "Minima =  0  occurs at theta =  1.00000000000000 1.00000000000000\n",
            "Iterations =  1\n"
          ],
          "name": "stdout"
        }
      ]
    },
    {
      "cell_type": "markdown",
      "metadata": {
        "id": "mW7heZBYqZzk"
      },
      "source": [
        "### Q3 (e)\n",
        "$L_5(\\theta) = \\sum_{i=1}^m(y^{(i)}-(\\theta_0+ \\theta_1x^{(i)}))^2$"
      ]
    },
    {
      "cell_type": "code",
      "metadata": {
        "scrolled": false,
        "id": "2Xvu3BpKqZzl"
      },
      "source": [
        "X, Y = [], []\n",
        "with open (\"data_q3.csv\") as data_file:\n",
        "    data = csv.reader(data_file)\n",
        "    for row in data:\n",
        "        X.append(row[0])\n",
        "        Y.append(row[1])\n",
        "X = np.array(X, dtype = 'float64')\n",
        "X = X.reshape((X.shape[0], 1))\n",
        "Y = np.array(Y, dtype = 'float64')\n",
        "Y = Y.reshape((Y.shape[0], 1))        \n",
        "X_scaled = (X - np.mean(X))/(np.std(X))\n",
        "X_ = np.concatenate((np.ones((X_scaled.shape[0], 1)), X_scaled), axis=1)\n",
        "weights = steepest_gradient_descent(X_,Y, 0.1, 300)\n",
        "print(\"Weights learned = \", weights)\n"
      ],
      "execution_count": null,
      "outputs": []
    },
    {
      "cell_type": "code",
      "metadata": {
        "id": "DMNoo-CSqZzp"
      },
      "source": [
        ""
      ],
      "execution_count": null,
      "outputs": []
    }
  ]
}